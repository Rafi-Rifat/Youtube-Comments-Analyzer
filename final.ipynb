{
 "cells": [
  {
   "cell_type": "code",
   "execution_count": 1,
   "id": "b32d2e67",
   "metadata": {},
   "outputs": [],
   "source": [
    "import pandas as pd\n",
    "import numpy as np\n",
    "import re\n",
    "import os\n",
    "import joblib\n",
    "import time\n",
    "from collections import Counter\n",
    "import warnings\n",
    "warnings.filterwarnings('ignore')"
   ]
  },
  {
   "cell_type": "markdown",
   "id": "539c31e7",
   "metadata": {},
   "source": [
    "# ML Libraries\n",
    "\n"
   ]
  },
  {
   "cell_type": "code",
   "execution_count": 4,
   "id": "9aedd31d",
   "metadata": {},
   "outputs": [
    {
     "name": "stdout",
     "output_type": "stream",
     "text": [
      "Requirement already satisfied: scikit-learn in ./.venv/lib/python3.9/site-packages (1.6.1)\n",
      "Requirement already satisfied: numpy>=1.19.5 in ./.venv/lib/python3.9/site-packages (from scikit-learn) (2.0.2)\n",
      "Requirement already satisfied: scipy>=1.6.0 in ./.venv/lib/python3.9/site-packages (from scikit-learn) (1.13.1)\n",
      "Requirement already satisfied: joblib>=1.2.0 in ./.venv/lib/python3.9/site-packages (from scikit-learn) (1.5.1)\n",
      "Requirement already satisfied: threadpoolctl>=3.1.0 in ./.venv/lib/python3.9/site-packages (from scikit-learn) (3.6.0)\n"
     ]
    }
   ],
   "source": [
    "!pip install scikit-learn\n",
    "from sklearn.model_selection import train_test_split\n",
    "from sklearn.feature_extraction.text import TfidfVectorizer\n",
    "from sklearn.svm import SVC\n",
    "from sklearn.metrics import classification_report, accuracy_score, f1_score\n",
    "from sklearn.utils.class_weight import compute_class_weight\n",
    "from sklearn.calibration import CalibratedClassifierCV"
   ]
  },
  {
   "cell_type": "markdown",
   "id": "6dc40dc4",
   "metadata": {},
   "source": [
    "# Deep Learning\n"
   ]
  },
  {
   "cell_type": "code",
   "execution_count": 6,
   "id": "98caf470",
   "metadata": {},
   "outputs": [
    {
     "name": "stdout",
     "output_type": "stream",
     "text": [
      "Collecting tensorflow\n",
      "  Using cached tensorflow-2.19.0-cp39-cp39-macosx_12_0_arm64.whl.metadata (4.0 kB)\n",
      "Collecting absl-py>=1.0.0 (from tensorflow)\n",
      "  Using cached absl_py-2.3.1-py3-none-any.whl.metadata (3.3 kB)\n",
      "Collecting astunparse>=1.6.0 (from tensorflow)\n",
      "  Using cached astunparse-1.6.3-py2.py3-none-any.whl.metadata (4.4 kB)\n",
      "Collecting flatbuffers>=24.3.25 (from tensorflow)\n",
      "  Using cached flatbuffers-25.2.10-py2.py3-none-any.whl.metadata (875 bytes)\n",
      "Collecting gast!=0.5.0,!=0.5.1,!=0.5.2,>=0.2.1 (from tensorflow)\n",
      "  Using cached gast-0.6.0-py3-none-any.whl.metadata (1.3 kB)\n",
      "Collecting google-pasta>=0.1.1 (from tensorflow)\n",
      "  Using cached google_pasta-0.2.0-py3-none-any.whl.metadata (814 bytes)\n",
      "Collecting libclang>=13.0.0 (from tensorflow)\n",
      "  Using cached libclang-18.1.1-1-py2.py3-none-macosx_11_0_arm64.whl.metadata (5.2 kB)\n",
      "Collecting opt-einsum>=2.3.2 (from tensorflow)\n",
      "  Using cached opt_einsum-3.4.0-py3-none-any.whl.metadata (6.3 kB)\n",
      "Requirement already satisfied: packaging in ./.venv/lib/python3.9/site-packages (from tensorflow) (25.0)\n",
      "Collecting protobuf!=4.21.0,!=4.21.1,!=4.21.2,!=4.21.3,!=4.21.4,!=4.21.5,<6.0.0dev,>=3.20.3 (from tensorflow)\n",
      "  Using cached protobuf-5.29.5-cp38-abi3-macosx_10_9_universal2.whl.metadata (592 bytes)\n",
      "Requirement already satisfied: requests<3,>=2.21.0 in ./.venv/lib/python3.9/site-packages (from tensorflow) (2.32.4)\n",
      "Requirement already satisfied: setuptools in ./.venv/lib/python3.9/site-packages (from tensorflow) (58.0.4)\n",
      "Requirement already satisfied: six>=1.12.0 in ./.venv/lib/python3.9/site-packages (from tensorflow) (1.17.0)\n",
      "Collecting termcolor>=1.1.0 (from tensorflow)\n",
      "  Using cached termcolor-3.1.0-py3-none-any.whl.metadata (6.4 kB)\n",
      "Requirement already satisfied: typing-extensions>=3.6.6 in ./.venv/lib/python3.9/site-packages (from tensorflow) (4.14.1)\n",
      "Collecting wrapt>=1.11.0 (from tensorflow)\n",
      "  Using cached wrapt-1.17.2-cp39-cp39-macosx_11_0_arm64.whl.metadata (6.4 kB)\n",
      "Collecting grpcio<2.0,>=1.24.3 (from tensorflow)\n",
      "  Downloading grpcio-1.74.0-cp39-cp39-macosx_11_0_universal2.whl.metadata (3.8 kB)\n",
      "Collecting tensorboard~=2.19.0 (from tensorflow)\n",
      "  Using cached tensorboard-2.19.0-py3-none-any.whl.metadata (1.8 kB)\n",
      "Collecting keras>=3.5.0 (from tensorflow)\n",
      "  Using cached keras-3.10.0-py3-none-any.whl.metadata (6.0 kB)\n",
      "Requirement already satisfied: numpy<2.2.0,>=1.26.0 in ./.venv/lib/python3.9/site-packages (from tensorflow) (2.0.2)\n",
      "Collecting h5py>=3.11.0 (from tensorflow)\n",
      "  Using cached h5py-3.14.0-cp39-cp39-macosx_11_0_arm64.whl.metadata (2.7 kB)\n",
      "Collecting ml-dtypes<1.0.0,>=0.5.1 (from tensorflow)\n",
      "  Downloading ml_dtypes-0.5.3-cp39-cp39-macosx_10_9_universal2.whl.metadata (8.9 kB)\n",
      "Collecting tensorflow-io-gcs-filesystem>=0.23.1 (from tensorflow)\n",
      "  Using cached tensorflow_io_gcs_filesystem-0.37.1-cp39-cp39-macosx_12_0_arm64.whl.metadata (14 kB)\n",
      "Requirement already satisfied: charset_normalizer<4,>=2 in ./.venv/lib/python3.9/site-packages (from requests<3,>=2.21.0->tensorflow) (3.4.3)\n",
      "Requirement already satisfied: idna<4,>=2.5 in ./.venv/lib/python3.9/site-packages (from requests<3,>=2.21.0->tensorflow) (3.10)\n",
      "Requirement already satisfied: urllib3<3,>=1.21.1 in ./.venv/lib/python3.9/site-packages (from requests<3,>=2.21.0->tensorflow) (2.5.0)\n",
      "Requirement already satisfied: certifi>=2017.4.17 in ./.venv/lib/python3.9/site-packages (from requests<3,>=2.21.0->tensorflow) (2025.8.3)\n",
      "Collecting markdown>=2.6.8 (from tensorboard~=2.19.0->tensorflow)\n",
      "  Using cached markdown-3.8.2-py3-none-any.whl.metadata (5.1 kB)\n",
      "Collecting tensorboard-data-server<0.8.0,>=0.7.0 (from tensorboard~=2.19.0->tensorflow)\n",
      "  Using cached tensorboard_data_server-0.7.2-py3-none-any.whl.metadata (1.1 kB)\n",
      "Collecting werkzeug>=1.0.1 (from tensorboard~=2.19.0->tensorflow)\n",
      "  Using cached werkzeug-3.1.3-py3-none-any.whl.metadata (3.7 kB)\n",
      "Collecting wheel<1.0,>=0.23.0 (from astunparse>=1.6.0->tensorflow)\n",
      "  Using cached wheel-0.45.1-py3-none-any.whl.metadata (2.3 kB)\n",
      "Collecting rich (from keras>=3.5.0->tensorflow)\n",
      "  Downloading rich-14.1.0-py3-none-any.whl.metadata (18 kB)\n",
      "Collecting namex (from keras>=3.5.0->tensorflow)\n",
      "  Using cached namex-0.1.0-py3-none-any.whl.metadata (322 bytes)\n",
      "Collecting optree (from keras>=3.5.0->tensorflow)\n",
      "  Downloading optree-0.17.0-cp39-cp39-macosx_11_0_arm64.whl.metadata (33 kB)\n",
      "Requirement already satisfied: importlib-metadata>=4.4 in ./.venv/lib/python3.9/site-packages (from markdown>=2.6.8->tensorboard~=2.19.0->tensorflow) (8.7.0)\n",
      "Requirement already satisfied: zipp>=3.20 in ./.venv/lib/python3.9/site-packages (from importlib-metadata>=4.4->markdown>=2.6.8->tensorboard~=2.19.0->tensorflow) (3.23.0)\n",
      "Requirement already satisfied: MarkupSafe>=2.1.1 in ./.venv/lib/python3.9/site-packages (from werkzeug>=1.0.1->tensorboard~=2.19.0->tensorflow) (3.0.2)\n",
      "Collecting markdown-it-py>=2.2.0 (from rich->keras>=3.5.0->tensorflow)\n",
      "  Using cached markdown_it_py-3.0.0-py3-none-any.whl.metadata (6.9 kB)\n",
      "Requirement already satisfied: pygments<3.0.0,>=2.13.0 in ./.venv/lib/python3.9/site-packages (from rich->keras>=3.5.0->tensorflow) (2.19.2)\n",
      "Collecting mdurl~=0.1 (from markdown-it-py>=2.2.0->rich->keras>=3.5.0->tensorflow)\n",
      "  Using cached mdurl-0.1.2-py3-none-any.whl.metadata (1.6 kB)\n",
      "Using cached tensorflow-2.19.0-cp39-cp39-macosx_12_0_arm64.whl (252.5 MB)\n",
      "Downloading grpcio-1.74.0-cp39-cp39-macosx_11_0_universal2.whl (11.0 MB)\n",
      "\u001b[2K   \u001b[90m━━━━━━━━━━━━━━━━━━━━━━━━━━━━━━━━━━━━━━━━\u001b[0m \u001b[32m11.0/11.0 MB\u001b[0m \u001b[31m2.3 MB/s\u001b[0m  \u001b[33m0:00:04\u001b[0mm0:00:01\u001b[0m00:01\u001b[0m\n",
      "\u001b[?25hDownloading ml_dtypes-0.5.3-cp39-cp39-macosx_10_9_universal2.whl (663 kB)\n",
      "\u001b[2K   \u001b[90m━━━━━━━━━━━━━━━━━━━━━━━━━━━━━━━━━━━━━━━━\u001b[0m \u001b[32m663.6/663.6 kB\u001b[0m \u001b[31m2.5 MB/s\u001b[0m  \u001b[33m0:00:00\u001b[0m eta \u001b[36m0:00:01\u001b[0m\n",
      "\u001b[?25hUsing cached protobuf-5.29.5-cp38-abi3-macosx_10_9_universal2.whl (418 kB)\n",
      "Using cached tensorboard-2.19.0-py3-none-any.whl (5.5 MB)\n",
      "Using cached tensorboard_data_server-0.7.2-py3-none-any.whl (2.4 kB)\n",
      "Using cached absl_py-2.3.1-py3-none-any.whl (135 kB)\n",
      "Using cached astunparse-1.6.3-py2.py3-none-any.whl (12 kB)\n",
      "Using cached wheel-0.45.1-py3-none-any.whl (72 kB)\n",
      "Using cached flatbuffers-25.2.10-py2.py3-none-any.whl (30 kB)\n",
      "Using cached gast-0.6.0-py3-none-any.whl (21 kB)\n",
      "Using cached google_pasta-0.2.0-py3-none-any.whl (57 kB)\n",
      "Using cached h5py-3.14.0-cp39-cp39-macosx_11_0_arm64.whl (2.8 MB)\n",
      "Using cached keras-3.10.0-py3-none-any.whl (1.4 MB)\n",
      "Using cached libclang-18.1.1-1-py2.py3-none-macosx_11_0_arm64.whl (25.8 MB)\n",
      "Using cached markdown-3.8.2-py3-none-any.whl (106 kB)\n",
      "Using cached opt_einsum-3.4.0-py3-none-any.whl (71 kB)\n",
      "Using cached tensorflow_io_gcs_filesystem-0.37.1-cp39-cp39-macosx_12_0_arm64.whl (3.5 MB)\n",
      "Using cached termcolor-3.1.0-py3-none-any.whl (7.7 kB)\n",
      "Using cached werkzeug-3.1.3-py3-none-any.whl (224 kB)\n",
      "Using cached wrapt-1.17.2-cp39-cp39-macosx_11_0_arm64.whl (38 kB)\n",
      "Using cached namex-0.1.0-py3-none-any.whl (5.9 kB)\n",
      "Downloading optree-0.17.0-cp39-cp39-macosx_11_0_arm64.whl (337 kB)\n",
      "Downloading rich-14.1.0-py3-none-any.whl (243 kB)\n",
      "Using cached markdown_it_py-3.0.0-py3-none-any.whl (87 kB)\n",
      "Using cached mdurl-0.1.2-py3-none-any.whl (10.0 kB)\n",
      "Installing collected packages: namex, libclang, flatbuffers, wrapt, wheel, werkzeug, termcolor, tensorflow-io-gcs-filesystem, tensorboard-data-server, protobuf, optree, opt-einsum, ml-dtypes, mdurl, h5py, grpcio, google-pasta, gast, absl-py, markdown-it-py, markdown, astunparse, tensorboard, rich, keras, tensorflow\n",
      "\u001b[2K  Attempting uninstall: protobuf0m━━━━━━━━━━━━━━━━━━━━━━━━━━━━━━━━\u001b[0m \u001b[32m 5/26\u001b[0m [werkzeug]\n",
      "\u001b[2K    Found existing installation: protobuf 6.31.1━━━━━━━━━━━━━━\u001b[0m \u001b[32m 5/26\u001b[0m [werkzeug]\n",
      "\u001b[2K    Uninstalling protobuf-6.31.1:━━━━━━━━━━━━━━━━━━━━━━━━━━━━━\u001b[0m \u001b[32m 5/26\u001b[0m [werkzeug]\n",
      "\u001b[2K      Successfully uninstalled protobuf-6.31.1━━━━━━━━━━━━━━━━\u001b[0m \u001b[32m 5/26\u001b[0m [werkzeug]\n",
      "\u001b[2K   \u001b[90m━━━━━━━━━━━━━━━━━━━━━━━━━━━━━━━━━━━━━━━━\u001b[0m \u001b[32m26/26\u001b[0m [tensorflow]6\u001b[0m [tensorflow]]py]\n",
      "\u001b[1A\u001b[2KSuccessfully installed absl-py-2.3.1 astunparse-1.6.3 flatbuffers-25.2.10 gast-0.6.0 google-pasta-0.2.0 grpcio-1.74.0 h5py-3.14.0 keras-3.10.0 libclang-18.1.1 markdown-3.8.2 markdown-it-py-3.0.0 mdurl-0.1.2 ml-dtypes-0.5.3 namex-0.1.0 opt-einsum-3.4.0 optree-0.17.0 protobuf-5.29.5 rich-14.1.0 tensorboard-2.19.0 tensorboard-data-server-0.7.2 tensorflow-2.19.0 tensorflow-io-gcs-filesystem-0.37.1 termcolor-3.1.0 werkzeug-3.1.3 wheel-0.45.1 wrapt-1.17.2\n",
      "Requirement already satisfied: keras in ./.venv/lib/python3.9/site-packages (3.10.0)\n",
      "Requirement already satisfied: absl-py in ./.venv/lib/python3.9/site-packages (from keras) (2.3.1)\n",
      "Requirement already satisfied: numpy in ./.venv/lib/python3.9/site-packages (from keras) (2.0.2)\n",
      "Requirement already satisfied: rich in ./.venv/lib/python3.9/site-packages (from keras) (14.1.0)\n",
      "Requirement already satisfied: namex in ./.venv/lib/python3.9/site-packages (from keras) (0.1.0)\n",
      "Requirement already satisfied: h5py in ./.venv/lib/python3.9/site-packages (from keras) (3.14.0)\n",
      "Requirement already satisfied: optree in ./.venv/lib/python3.9/site-packages (from keras) (0.17.0)\n",
      "Requirement already satisfied: ml-dtypes in ./.venv/lib/python3.9/site-packages (from keras) (0.5.3)\n",
      "Requirement already satisfied: packaging in ./.venv/lib/python3.9/site-packages (from keras) (25.0)\n",
      "Requirement already satisfied: typing-extensions>=4.6.0 in ./.venv/lib/python3.9/site-packages (from optree->keras) (4.14.1)\n",
      "Requirement already satisfied: markdown-it-py>=2.2.0 in ./.venv/lib/python3.9/site-packages (from rich->keras) (3.0.0)\n",
      "Requirement already satisfied: pygments<3.0.0,>=2.13.0 in ./.venv/lib/python3.9/site-packages (from rich->keras) (2.19.2)\n",
      "Requirement already satisfied: mdurl~=0.1 in ./.venv/lib/python3.9/site-packages (from markdown-it-py>=2.2.0->rich->keras) (0.1.2)\n"
     ]
    }
   ],
   "source": [
    "!pip install tensorflow\n",
    "!pip install keras\n",
    "import tensorflow as tf\n",
    "from tensorflow.keras.models import Model, load_model\n",
    "from tensorflow.keras.layers import (Dense, LSTM, Embedding, Dropout, Input, \n",
    "                                     Bidirectional, BatchNormalization, GlobalMaxPooling1D)\n",
    "from tensorflow.keras.preprocessing.text import Tokenizer\n",
    "from tensorflow.keras.preprocessing.sequence import pad_sequences\n",
    "from tensorflow.keras.callbacks import EarlyStopping, ReduceLROnPlateau, ModelCheckpoint\n",
    "from tensorflow.keras.optimizers import Adam\n",
    "from tensorflow.keras.initializers import Constant"
   ]
  },
  {
   "cell_type": "markdown",
   "id": "e01a0d39",
   "metadata": {},
   "source": [
    "# Text preprocessing"
   ]
  },
  {
   "cell_type": "code",
   "execution_count": 7,
   "id": "d04c3674",
   "metadata": {},
   "outputs": [],
   "source": [
    "np.random.seed(42)\n",
    "tf.random.set_seed(42)\n",
    "\n",
    "# Enhanced text preprocessing\n",
    "def preprocess_bangla_text(text):\n",
    "    if pd.isna(text):\n",
    "        return \"\"\n",
    "    text = str(text)\n",
    "    \n",
    "    # Remove URLs, mentions, hashtags\n",
    "    text = re.sub(r'http\\S+|www\\S+|https\\S+', '', text)\n",
    "    text = re.sub(r'@\\w+|#\\w+', '', text)\n",
    "    \n",
    "    # Remove email addresses and English characters\n",
    "    text = re.sub(r'\\S+@\\S+', '', text)\n",
    "    text = re.sub(r'[a-zA-Z]', '', text)\n",
    "    \n",
    "    # Keep Bangla characters and key punctuation\n",
    "    text = re.sub(r'[^\\u0980-\\u09FF\\s!?.,;:()\\[\\]{}-]', '', text)\n",
    "    \n",
    "    # Remove repeated punctuation and spaces\n",
    "    text = re.sub(r'([!?.])\\1+', r'\\1', text)\n",
    "    text = re.sub(r'\\s+', ' ', text).strip()\n",
    "    \n",
    "    return text"
   ]
  },
  {
   "cell_type": "markdown",
   "id": "2c964bed",
   "metadata": {},
   "source": [
    "\n",
    "# Load FastText embeddings"
   ]
  },
  {
   "cell_type": "code",
   "execution_count": 8,
   "id": "40dc8e96",
   "metadata": {},
   "outputs": [],
   "source": [
    "def load_fasttext_embeddings(file_path):\n",
    "    print(f\"Loading FastText embeddings from {file_path}...\")\n",
    "    embeddings_index = {}\n",
    "    \n",
    "    # Get file size\n",
    "    file_size = os.path.getsize(file_path)\n",
    "    processed = 0\n",
    "    \n",
    "    with open(file_path, 'r', encoding='utf-8', errors='ignore') as f:\n",
    "        # Skip first line (header)\n",
    "        header = f.readline()\n",
    "        vocab_size, dim = map(int, header.split())\n",
    "        \n",
    "        for line in f:\n",
    "            values = line.split()\n",
    "            word = values[0]\n",
    "            try:\n",
    "                coefs = np.asarray(values[1:], dtype='float32')\n",
    "                embeddings_index[word] = coefs\n",
    "            except:\n",
    "                continue\n",
    "                \n",
    "            # Progress update\n",
    "            processed += len(line)\n",
    "            if processed % (100 * 1024 * 1024) == 0:  # Print every 100MB\n",
    "                print(f\"Processed {processed/(1024*1024):.2f} MB/{file_size/(1024*1024):.2f} MB\")\n",
    "    \n",
    "    print(f\"Loaded {len(embeddings_index)} word vectors\")\n",
    "    return embeddings_index, dim\n"
   ]
  },
  {
   "cell_type": "markdown",
   "id": "421898dc",
   "metadata": {},
   "source": [
    "# Build BiLSTM model with FastText embeddings"
   ]
  },
  {
   "cell_type": "code",
   "execution_count": 9,
   "id": "dd9dab38",
   "metadata": {},
   "outputs": [],
   "source": [
    "def build_bilstm_model(embedding_matrix, max_sequence_length, vocab_size, embedding_dim):\n",
    "    input_layer = Input(shape=(max_sequence_length,))\n",
    "    \n",
    "    embedding_layer = Embedding(\n",
    "        vocab_size,\n",
    "        embedding_dim,\n",
    "        embeddings_initializer=Constant(embedding_matrix),\n",
    "        input_length=max_sequence_length,\n",
    "        trainable=False\n",
    "    )(input_layer)\n",
    "    \n",
    "    # BiLSTM layers\n",
    "    bilstm = Bidirectional(LSTM(128, return_sequences=True))(embedding_layer)\n",
    "    pooled = GlobalMaxPooling1D()(bilstm)\n",
    "    \n",
    "    # Dense layers\n",
    "    dense1 = Dense(128, activation='relu')(pooled)\n",
    "    dropout1 = Dropout(0.4)(dense1)\n",
    "    bn1 = BatchNormalization()(dropout1)\n",
    "    \n",
    "    dense2 = Dense(64, activation='relu')(bn1)\n",
    "    dropout2 = Dropout(0.3)(dense2)\n",
    "    \n",
    "    output = Dense(3, activation='softmax')(dropout2)\n",
    "    \n",
    "    model = Model(inputs=input_layer, outputs=output)\n",
    "    \n",
    "    model.compile(\n",
    "        optimizer=Adam(learning_rate=0.001),\n",
    "        loss='sparse_categorical_crossentropy',\n",
    "        metrics=['accuracy']\n",
    "    )\n",
    "    return model"
   ]
  },
  {
   "cell_type": "code",
   "execution_count": 10,
   "id": "12a7f5c4",
   "metadata": {},
   "outputs": [
    {
     "name": "stdout",
     "output_type": "stream",
     "text": [
      "Loading dataset...\n",
      "Original dataset shape: (15015, 8)\n"
     ]
    }
   ],
   "source": [
    "# Load dataset\n",
    "print(\"Loading dataset...\")\n",
    "df = pd.read_csv('comments.csv')\n",
    "print(f\"Original dataset shape: {df.shape}\")"
   ]
  },
  {
   "cell_type": "code",
   "execution_count": 11,
   "id": "bb71733d",
   "metadata": {},
   "outputs": [
    {
     "data": {
      "text/plain": [
       "Sentiment\n",
       "Positive    9856\n",
       "Negative    3722\n",
       "Neutral     1437\n",
       "Name: count, dtype: int64"
      ]
     },
     "execution_count": 11,
     "metadata": {},
     "output_type": "execute_result"
    }
   ],
   "source": [
    "df['Sentiment'].value_counts()"
   ]
  },
  {
   "cell_type": "code",
   "execution_count": 12,
   "id": "c6e3b420",
   "metadata": {},
   "outputs": [
    {
     "data": {
      "text/html": [
       "<div>\n",
       "<style scoped>\n",
       "    .dataframe tbody tr th:only-of-type {\n",
       "        vertical-align: middle;\n",
       "    }\n",
       "\n",
       "    .dataframe tbody tr th {\n",
       "        vertical-align: top;\n",
       "    }\n",
       "\n",
       "    .dataframe thead th {\n",
       "        text-align: right;\n",
       "    }\n",
       "</style>\n",
       "<table border=\"1\" class=\"dataframe\">\n",
       "  <thead>\n",
       "    <tr style=\"text-align: right;\">\n",
       "      <th></th>\n",
       "      <th>Video Id</th>\n",
       "      <th>Author</th>\n",
       "      <th>Comment</th>\n",
       "      <th>Published At</th>\n",
       "      <th>Likes</th>\n",
       "      <th>Sentiment</th>\n",
       "      <th>Likes (Video)</th>\n",
       "      <th>Dislikes (Video)</th>\n",
       "    </tr>\n",
       "  </thead>\n",
       "  <tbody>\n",
       "    <tr>\n",
       "      <th>6407</th>\n",
       "      <td>vDmY5y34uPS</td>\n",
       "      <td>Author_3699</td>\n",
       "      <td>শেষ seen টা নামাজ নিয়ে কথা টা আমার খুব ভালো লা...</td>\n",
       "      <td>2023-06-13 21:18:14</td>\n",
       "      <td>0</td>\n",
       "      <td>Positive</td>\n",
       "      <td>3889</td>\n",
       "      <td>0</td>\n",
       "    </tr>\n",
       "    <tr>\n",
       "      <th>3532</th>\n",
       "      <td>u9r1O_jrxoU</td>\n",
       "      <td>Author_824</td>\n",
       "      <td>Best natok ,,,পরিচালক কে অন্তরের অন্তর স্থল থে...</td>\n",
       "      <td>2023-10-18 18:03:37</td>\n",
       "      <td>2</td>\n",
       "      <td>Positive</td>\n",
       "      <td>1389</td>\n",
       "      <td>0</td>\n",
       "    </tr>\n",
       "    <tr>\n",
       "      <th>8054</th>\n",
       "      <td>3Y5rOJKXCjq</td>\n",
       "      <td>Author_5346</td>\n",
       "      <td>অনেক সুন্দর একটা নাটক,,,,,সার্ভিস হোল্ডালের পর...</td>\n",
       "      <td>2025-03-23 15:39:18</td>\n",
       "      <td>1</td>\n",
       "      <td>Positive</td>\n",
       "      <td>8372</td>\n",
       "      <td>0</td>\n",
       "    </tr>\n",
       "    <tr>\n",
       "      <th>14406</th>\n",
       "      <td>WAMNM08cG9t</td>\n",
       "      <td>Author_11698</td>\n",
       "      <td>অসাধারন।</td>\n",
       "      <td>2023-12-23 12:19:41</td>\n",
       "      <td>0</td>\n",
       "      <td>Positive</td>\n",
       "      <td>2724</td>\n",
       "      <td>0</td>\n",
       "    </tr>\n",
       "    <tr>\n",
       "      <th>379</th>\n",
       "      <td>Q8GtqiXY0Tc</td>\n",
       "      <td>@AlexAzzurri</td>\n",
       "      <td>mac book e windows install kora jabe ??   taho...</td>\n",
       "      <td>2024-02-08T13:38:58Z</td>\n",
       "      <td>0</td>\n",
       "      <td>Positive</td>\n",
       "      <td>7108</td>\n",
       "      <td>0</td>\n",
       "    </tr>\n",
       "    <tr>\n",
       "      <th>5598</th>\n",
       "      <td>G_W1o-VmrJx</td>\n",
       "      <td>Author_2890</td>\n",
       "      <td>আমার দেখা সেরা একটা নাটক।চোখে পানি চলে আসার মতো।</td>\n",
       "      <td>2023-09-02 4:37:47</td>\n",
       "      <td>0</td>\n",
       "      <td>Positive</td>\n",
       "      <td>9154</td>\n",
       "      <td>0</td>\n",
       "    </tr>\n",
       "    <tr>\n",
       "      <th>3958</th>\n",
       "      <td>khrYkUcHWJO</td>\n",
       "      <td>Author_1250</td>\n",
       "      <td>প্রথমে ধন্যবাদ পরিচালক কে,যে এতো সুন্দর একটা ন...</td>\n",
       "      <td>2024-06-09 17:04:05</td>\n",
       "      <td>3</td>\n",
       "      <td>Positive</td>\n",
       "      <td>1709</td>\n",
       "      <td>0</td>\n",
       "    </tr>\n",
       "    <tr>\n",
       "      <th>12214</th>\n",
       "      <td>CY0Fe247XVR</td>\n",
       "      <td>Author_9506</td>\n",
       "      <td>খুব খুব সুন্দর একটি নাটক\"Thanks a lot...for ma...</td>\n",
       "      <td>2024-08-15 19:56:20</td>\n",
       "      <td>0</td>\n",
       "      <td>Positive</td>\n",
       "      <td>588</td>\n",
       "      <td>0</td>\n",
       "    </tr>\n",
       "    <tr>\n",
       "      <th>1795</th>\n",
       "      <td>E6DimSMlmRU</td>\n",
       "      <td>@Sohidul778</td>\n",
       "      <td>fz 4 থেকে হেডলাইট টেল লাইট বড় এই বাইকের। এটা ভ...</td>\n",
       "      <td>2024-10-02T13:42:35Z</td>\n",
       "      <td>0</td>\n",
       "      <td>Positive</td>\n",
       "      <td>6477</td>\n",
       "      <td>0</td>\n",
       "    </tr>\n",
       "    <tr>\n",
       "      <th>13624</th>\n",
       "      <td>Q-9mS_N3b3T</td>\n",
       "      <td>Author_10916</td>\n",
       "      <td>এই নাটকে যারা ডিসলাইক দেয় তারা নিশ্চিত হিরো আল...</td>\n",
       "      <td>2025-02-08 22:20:26</td>\n",
       "      <td>0</td>\n",
       "      <td>Positive</td>\n",
       "      <td>8021</td>\n",
       "      <td>0</td>\n",
       "    </tr>\n",
       "  </tbody>\n",
       "</table>\n",
       "</div>"
      ],
      "text/plain": [
       "          Video Id        Author  \\\n",
       "6407   vDmY5y34uPS   Author_3699   \n",
       "3532   u9r1O_jrxoU    Author_824   \n",
       "8054   3Y5rOJKXCjq   Author_5346   \n",
       "14406  WAMNM08cG9t  Author_11698   \n",
       "379    Q8GtqiXY0Tc  @AlexAzzurri   \n",
       "5598   G_W1o-VmrJx   Author_2890   \n",
       "3958   khrYkUcHWJO   Author_1250   \n",
       "12214  CY0Fe247XVR   Author_9506   \n",
       "1795   E6DimSMlmRU   @Sohidul778   \n",
       "13624  Q-9mS_N3b3T  Author_10916   \n",
       "\n",
       "                                                 Comment  \\\n",
       "6407   শেষ seen টা নামাজ নিয়ে কথা টা আমার খুব ভালো লা...   \n",
       "3532   Best natok ,,,পরিচালক কে অন্তরের অন্তর স্থল থে...   \n",
       "8054   অনেক সুন্দর একটা নাটক,,,,,সার্ভিস হোল্ডালের পর...   \n",
       "14406                                           অসাধারন।   \n",
       "379    mac book e windows install kora jabe ??   taho...   \n",
       "5598    আমার দেখা সেরা একটা নাটক।চোখে পানি চলে আসার মতো।   \n",
       "3958   প্রথমে ধন্যবাদ পরিচালক কে,যে এতো সুন্দর একটা ন...   \n",
       "12214  খুব খুব সুন্দর একটি নাটক\"Thanks a lot...for ma...   \n",
       "1795   fz 4 থেকে হেডলাইট টেল লাইট বড় এই বাইকের। এটা ভ...   \n",
       "13624  এই নাটকে যারা ডিসলাইক দেয় তারা নিশ্চিত হিরো আল...   \n",
       "\n",
       "               Published At  Likes Sentiment  Likes (Video)  Dislikes (Video)  \n",
       "6407    2023-06-13 21:18:14      0  Positive           3889                 0  \n",
       "3532    2023-10-18 18:03:37      2  Positive           1389                 0  \n",
       "8054    2025-03-23 15:39:18      1  Positive           8372                 0  \n",
       "14406   2023-12-23 12:19:41      0  Positive           2724                 0  \n",
       "379    2024-02-08T13:38:58Z      0  Positive           7108                 0  \n",
       "5598     2023-09-02 4:37:47      0  Positive           9154                 0  \n",
       "3958    2024-06-09 17:04:05      3  Positive           1709                 0  \n",
       "12214   2024-08-15 19:56:20      0  Positive            588                 0  \n",
       "1795   2024-10-02T13:42:35Z      0  Positive           6477                 0  \n",
       "13624   2025-02-08 22:20:26      0  Positive           8021                 0  "
      ]
     },
     "execution_count": 12,
     "metadata": {},
     "output_type": "execute_result"
    }
   ],
   "source": [
    "df.sample(10)\n"
   ]
  },
  {
   "cell_type": "code",
   "execution_count": 13,
   "id": "0ac33f51",
   "metadata": {},
   "outputs": [],
   "source": [
    "# Preprocessing pipeline\n",
    "df = df[['Comment', 'Sentiment']].copy()\n",
    "df = df.dropna(subset=['Comment', 'Sentiment'])\n",
    "df['processed_text'] = df['Comment'].apply(preprocess_bangla_text)\n",
    "df = df[df['processed_text'].str.len() > 3]  \n",
    "\n",
    "# Encode labels\n",
    "label_map = {'Positive': 2, 'Negative': 0, 'Neutral': 1}\n",
    "df['label'] = df['Sentiment'].map(label_map)\n",
    "df = df.dropna(subset=['label'])\n",
    "\n",
    "# Split data with stratification\n",
    "X = df['processed_text'].values\n",
    "y = df['label'].values.astype(int)\n",
    "\n",
    "X_train, X_test, y_train, y_test = train_test_split(\n",
    "    X, y, test_size=0.2, random_state=42, stratify=y\n",
    ")"
   ]
  },
  {
   "cell_type": "code",
   "execution_count": 14,
   "id": "7bc84a61",
   "metadata": {},
   "outputs": [
    {
     "data": {
      "text/html": [
       "<div>\n",
       "<style scoped>\n",
       "    .dataframe tbody tr th:only-of-type {\n",
       "        vertical-align: middle;\n",
       "    }\n",
       "\n",
       "    .dataframe tbody tr th {\n",
       "        vertical-align: top;\n",
       "    }\n",
       "\n",
       "    .dataframe thead th {\n",
       "        text-align: right;\n",
       "    }\n",
       "</style>\n",
       "<table border=\"1\" class=\"dataframe\">\n",
       "  <thead>\n",
       "    <tr style=\"text-align: right;\">\n",
       "      <th></th>\n",
       "      <th>Comment</th>\n",
       "      <th>Sentiment</th>\n",
       "      <th>processed_text</th>\n",
       "      <th>label</th>\n",
       "    </tr>\n",
       "  </thead>\n",
       "  <tbody>\n",
       "    <tr>\n",
       "      <th>12348</th>\n",
       "      <td>সেরা ছিলো</td>\n",
       "      <td>Positive</td>\n",
       "      <td>সেরা ছিলো</td>\n",
       "      <td>2</td>\n",
       "    </tr>\n",
       "    <tr>\n",
       "      <th>11082</th>\n",
       "      <td>ওসাদারন নাটক টা</td>\n",
       "      <td>Positive</td>\n",
       "      <td>ওসাদারন নাটক টা</td>\n",
       "      <td>2</td>\n",
       "    </tr>\n",
       "    <tr>\n",
       "      <th>9839</th>\n",
       "      <td>এন্ডিং ভালো লাগেনি।।</td>\n",
       "      <td>Negative</td>\n",
       "      <td>এন্ডিং ভালো লাগেনি</td>\n",
       "      <td>0</td>\n",
       "    </tr>\n",
       "    <tr>\n",
       "      <th>8337</th>\n",
       "      <td>অস্থির এক নাটক এটা</td>\n",
       "      <td>Negative</td>\n",
       "      <td>অস্থির এক নাটক এটা</td>\n",
       "      <td>0</td>\n",
       "    </tr>\n",
       "    <tr>\n",
       "      <th>12747</th>\n",
       "      <td>ফালতু নাটক</td>\n",
       "      <td>Negative</td>\n",
       "      <td>ফালতু নাটক</td>\n",
       "      <td>0</td>\n",
       "    </tr>\n",
       "  </tbody>\n",
       "</table>\n",
       "</div>"
      ],
      "text/plain": [
       "                    Comment Sentiment      processed_text  label\n",
       "12348             সেরা ছিলো  Positive           সেরা ছিলো      2\n",
       "11082       ওসাদারন নাটক টা  Positive     ওসাদারন নাটক টা      2\n",
       "9839   এন্ডিং ভালো লাগেনি।।  Negative  এন্ডিং ভালো লাগেনি      0\n",
       "8337     অস্থির এক নাটক এটা  Negative  অস্থির এক নাটক এটা      0\n",
       "12747            ফালতু নাটক  Negative          ফালতু নাটক      0"
      ]
     },
     "execution_count": 14,
     "metadata": {},
     "output_type": "execute_result"
    }
   ],
   "source": [
    "df.sample(5)"
   ]
  },
  {
   "cell_type": "markdown",
   "id": "393f3750",
   "metadata": {},
   "source": [
    "# Load FastText embeddings"
   ]
  },
  {
   "cell_type": "code",
   "execution_count": 15,
   "id": "cba190a3",
   "metadata": {},
   "outputs": [
    {
     "name": "stdout",
     "output_type": "stream",
     "text": [
      "Loading FastText embeddings from cc.bn.300.vec...\n",
      "Loaded 1468578 word vectors\n"
     ]
    }
   ],
   "source": [
    "embeddings_index, EMBEDDING_DIM = load_fasttext_embeddings('cc.bn.300.vec')\n",
    "MAX_SEQUENCE_LENGTH = 128\n",
    "VOCAB_SIZE = 50000"
   ]
  },
  {
   "cell_type": "markdown",
   "id": "6929aac0",
   "metadata": {},
   "source": [
    "# SVM Model (TF-IDF)\n",
    "\n"
   ]
  },
  {
   "cell_type": "code",
   "execution_count": 16,
   "id": "27563a1b",
   "metadata": {},
   "outputs": [
    {
     "name": "stdout",
     "output_type": "stream",
     "text": [
      "Training SVM Model......\n",
      "\n",
      "SVM Test Accuracy: 0.8105\n",
      "SVM Test F1-Score: 0.8141\n"
     ]
    }
   ],
   "source": [
    "print(\"Training SVM Model......\")\n",
    "\n",
    "# TF-IDF Vectorization\n",
    "tfidf = TfidfVectorizer(\n",
    "    max_features=15000,\n",
    "    ngram_range=(1, 3),\n",
    "    min_df=2,\n",
    "    max_df=0.85,\n",
    "    sublinear_tf=True,\n",
    "    norm='l2'\n",
    ")\n",
    "\n",
    "X_train_tfidf = tfidf.fit_transform(X_train)\n",
    "X_test_tfidf = tfidf.transform(X_test)\n",
    "\n",
    "# Calculate class weights\n",
    "class_weights = compute_class_weight('balanced', classes=np.unique(y_train), y=y_train)\n",
    "class_weight_dict = {i: class_weights[i] for i in range(len(class_weights))}\n",
    "\n",
    "# Train SVM with calibration\n",
    "svm = SVC(\n",
    "    C=1.5,\n",
    "    gamma='scale',\n",
    "    kernel='rbf',\n",
    "    class_weight=class_weight_dict,\n",
    "    probability=True,\n",
    "    random_state=42\n",
    ")\n",
    "\n",
    "# Calibrate for better probabilities\n",
    "calibrated_svm = CalibratedClassifierCV(svm, cv=5, method='sigmoid')\n",
    "calibrated_svm.fit(X_train_tfidf, y_train)\n",
    "\n",
    "# Evaluate SVM\n",
    "svm_pred = calibrated_svm.predict(X_test_tfidf)\n",
    "svm_acc = accuracy_score(y_test, svm_pred)\n",
    "svm_f1 = f1_score(y_test, svm_pred, average='weighted')\n",
    "\n",
    "print(f\"\\nSVM Test Accuracy: {svm_acc:.4f}\")\n",
    "print(f\"SVM Test F1-Score: {svm_f1:.4f}\")"
   ]
  },
  {
   "cell_type": "markdown",
   "id": "29345f2e",
   "metadata": {},
   "source": [
    "# BiLSTM Model (FastText)"
   ]
  },
  {
   "cell_type": "code",
   "execution_count": 17,
   "id": "9633ea84",
   "metadata": {},
   "outputs": [
    {
     "name": "stdout",
     "output_type": "stream",
     "text": [
      "Training BiLSTM Model with FastText.....\n",
      "\n",
      "Tokenizing text...\n",
      "Preparing embedding matrix...\n",
      "Embedding coverage: 11597/15252 (76.04%)\n",
      "\n",
      "Converting text to sequences...\n",
      "\n",
      "Building BiLSTM model...\n"
     ]
    },
    {
     "data": {
      "text/html": [
       "<pre style=\"white-space:pre;overflow-x:auto;line-height:normal;font-family:Menlo,'DejaVu Sans Mono',consolas,'Courier New',monospace\"><span style=\"font-weight: bold\">Model: \"functional\"</span>\n",
       "</pre>\n"
      ],
      "text/plain": [
       "\u001b[1mModel: \"functional\"\u001b[0m\n"
      ]
     },
     "metadata": {},
     "output_type": "display_data"
    },
    {
     "data": {
      "text/html": [
       "<pre style=\"white-space:pre;overflow-x:auto;line-height:normal;font-family:Menlo,'DejaVu Sans Mono',consolas,'Courier New',monospace\">┏━━━━━━━━━━━━━━━━━━━━━━━━━━━━━━━━━┳━━━━━━━━━━━━━━━━━━━━━━━━┳━━━━━━━━━━━━━━━┓\n",
       "┃<span style=\"font-weight: bold\"> Layer (type)                    </span>┃<span style=\"font-weight: bold\"> Output Shape           </span>┃<span style=\"font-weight: bold\">       Param # </span>┃\n",
       "┡━━━━━━━━━━━━━━━━━━━━━━━━━━━━━━━━━╇━━━━━━━━━━━━━━━━━━━━━━━━╇━━━━━━━━━━━━━━━┩\n",
       "│ input_layer (<span style=\"color: #0087ff; text-decoration-color: #0087ff\">InputLayer</span>)        │ (<span style=\"color: #00d7ff; text-decoration-color: #00d7ff\">None</span>, <span style=\"color: #00af00; text-decoration-color: #00af00\">128</span>)            │             <span style=\"color: #00af00; text-decoration-color: #00af00\">0</span> │\n",
       "├─────────────────────────────────┼────────────────────────┼───────────────┤\n",
       "│ embedding (<span style=\"color: #0087ff; text-decoration-color: #0087ff\">Embedding</span>)           │ (<span style=\"color: #00d7ff; text-decoration-color: #00d7ff\">None</span>, <span style=\"color: #00af00; text-decoration-color: #00af00\">128</span>, <span style=\"color: #00af00; text-decoration-color: #00af00\">300</span>)       │     <span style=\"color: #00af00; text-decoration-color: #00af00\">4,575,600</span> │\n",
       "├─────────────────────────────────┼────────────────────────┼───────────────┤\n",
       "│ bidirectional (<span style=\"color: #0087ff; text-decoration-color: #0087ff\">Bidirectional</span>)   │ (<span style=\"color: #00d7ff; text-decoration-color: #00d7ff\">None</span>, <span style=\"color: #00af00; text-decoration-color: #00af00\">128</span>, <span style=\"color: #00af00; text-decoration-color: #00af00\">256</span>)       │       <span style=\"color: #00af00; text-decoration-color: #00af00\">439,296</span> │\n",
       "├─────────────────────────────────┼────────────────────────┼───────────────┤\n",
       "│ global_max_pooling1d            │ (<span style=\"color: #00d7ff; text-decoration-color: #00d7ff\">None</span>, <span style=\"color: #00af00; text-decoration-color: #00af00\">256</span>)            │             <span style=\"color: #00af00; text-decoration-color: #00af00\">0</span> │\n",
       "│ (<span style=\"color: #0087ff; text-decoration-color: #0087ff\">GlobalMaxPooling1D</span>)            │                        │               │\n",
       "├─────────────────────────────────┼────────────────────────┼───────────────┤\n",
       "│ dense (<span style=\"color: #0087ff; text-decoration-color: #0087ff\">Dense</span>)                   │ (<span style=\"color: #00d7ff; text-decoration-color: #00d7ff\">None</span>, <span style=\"color: #00af00; text-decoration-color: #00af00\">128</span>)            │        <span style=\"color: #00af00; text-decoration-color: #00af00\">32,896</span> │\n",
       "├─────────────────────────────────┼────────────────────────┼───────────────┤\n",
       "│ dropout (<span style=\"color: #0087ff; text-decoration-color: #0087ff\">Dropout</span>)               │ (<span style=\"color: #00d7ff; text-decoration-color: #00d7ff\">None</span>, <span style=\"color: #00af00; text-decoration-color: #00af00\">128</span>)            │             <span style=\"color: #00af00; text-decoration-color: #00af00\">0</span> │\n",
       "├─────────────────────────────────┼────────────────────────┼───────────────┤\n",
       "│ batch_normalization             │ (<span style=\"color: #00d7ff; text-decoration-color: #00d7ff\">None</span>, <span style=\"color: #00af00; text-decoration-color: #00af00\">128</span>)            │           <span style=\"color: #00af00; text-decoration-color: #00af00\">512</span> │\n",
       "│ (<span style=\"color: #0087ff; text-decoration-color: #0087ff\">BatchNormalization</span>)            │                        │               │\n",
       "├─────────────────────────────────┼────────────────────────┼───────────────┤\n",
       "│ dense_1 (<span style=\"color: #0087ff; text-decoration-color: #0087ff\">Dense</span>)                 │ (<span style=\"color: #00d7ff; text-decoration-color: #00d7ff\">None</span>, <span style=\"color: #00af00; text-decoration-color: #00af00\">64</span>)             │         <span style=\"color: #00af00; text-decoration-color: #00af00\">8,256</span> │\n",
       "├─────────────────────────────────┼────────────────────────┼───────────────┤\n",
       "│ dropout_1 (<span style=\"color: #0087ff; text-decoration-color: #0087ff\">Dropout</span>)             │ (<span style=\"color: #00d7ff; text-decoration-color: #00d7ff\">None</span>, <span style=\"color: #00af00; text-decoration-color: #00af00\">64</span>)             │             <span style=\"color: #00af00; text-decoration-color: #00af00\">0</span> │\n",
       "├─────────────────────────────────┼────────────────────────┼───────────────┤\n",
       "│ dense_2 (<span style=\"color: #0087ff; text-decoration-color: #0087ff\">Dense</span>)                 │ (<span style=\"color: #00d7ff; text-decoration-color: #00d7ff\">None</span>, <span style=\"color: #00af00; text-decoration-color: #00af00\">3</span>)              │           <span style=\"color: #00af00; text-decoration-color: #00af00\">195</span> │\n",
       "└─────────────────────────────────┴────────────────────────┴───────────────┘\n",
       "</pre>\n"
      ],
      "text/plain": [
       "┏━━━━━━━━━━━━━━━━━━━━━━━━━━━━━━━━━┳━━━━━━━━━━━━━━━━━━━━━━━━┳━━━━━━━━━━━━━━━┓\n",
       "┃\u001b[1m \u001b[0m\u001b[1mLayer (type)                   \u001b[0m\u001b[1m \u001b[0m┃\u001b[1m \u001b[0m\u001b[1mOutput Shape          \u001b[0m\u001b[1m \u001b[0m┃\u001b[1m \u001b[0m\u001b[1m      Param #\u001b[0m\u001b[1m \u001b[0m┃\n",
       "┡━━━━━━━━━━━━━━━━━━━━━━━━━━━━━━━━━╇━━━━━━━━━━━━━━━━━━━━━━━━╇━━━━━━━━━━━━━━━┩\n",
       "│ input_layer (\u001b[38;5;33mInputLayer\u001b[0m)        │ (\u001b[38;5;45mNone\u001b[0m, \u001b[38;5;34m128\u001b[0m)            │             \u001b[38;5;34m0\u001b[0m │\n",
       "├─────────────────────────────────┼────────────────────────┼───────────────┤\n",
       "│ embedding (\u001b[38;5;33mEmbedding\u001b[0m)           │ (\u001b[38;5;45mNone\u001b[0m, \u001b[38;5;34m128\u001b[0m, \u001b[38;5;34m300\u001b[0m)       │     \u001b[38;5;34m4,575,600\u001b[0m │\n",
       "├─────────────────────────────────┼────────────────────────┼───────────────┤\n",
       "│ bidirectional (\u001b[38;5;33mBidirectional\u001b[0m)   │ (\u001b[38;5;45mNone\u001b[0m, \u001b[38;5;34m128\u001b[0m, \u001b[38;5;34m256\u001b[0m)       │       \u001b[38;5;34m439,296\u001b[0m │\n",
       "├─────────────────────────────────┼────────────────────────┼───────────────┤\n",
       "│ global_max_pooling1d            │ (\u001b[38;5;45mNone\u001b[0m, \u001b[38;5;34m256\u001b[0m)            │             \u001b[38;5;34m0\u001b[0m │\n",
       "│ (\u001b[38;5;33mGlobalMaxPooling1D\u001b[0m)            │                        │               │\n",
       "├─────────────────────────────────┼────────────────────────┼───────────────┤\n",
       "│ dense (\u001b[38;5;33mDense\u001b[0m)                   │ (\u001b[38;5;45mNone\u001b[0m, \u001b[38;5;34m128\u001b[0m)            │        \u001b[38;5;34m32,896\u001b[0m │\n",
       "├─────────────────────────────────┼────────────────────────┼───────────────┤\n",
       "│ dropout (\u001b[38;5;33mDropout\u001b[0m)               │ (\u001b[38;5;45mNone\u001b[0m, \u001b[38;5;34m128\u001b[0m)            │             \u001b[38;5;34m0\u001b[0m │\n",
       "├─────────────────────────────────┼────────────────────────┼───────────────┤\n",
       "│ batch_normalization             │ (\u001b[38;5;45mNone\u001b[0m, \u001b[38;5;34m128\u001b[0m)            │           \u001b[38;5;34m512\u001b[0m │\n",
       "│ (\u001b[38;5;33mBatchNormalization\u001b[0m)            │                        │               │\n",
       "├─────────────────────────────────┼────────────────────────┼───────────────┤\n",
       "│ dense_1 (\u001b[38;5;33mDense\u001b[0m)                 │ (\u001b[38;5;45mNone\u001b[0m, \u001b[38;5;34m64\u001b[0m)             │         \u001b[38;5;34m8,256\u001b[0m │\n",
       "├─────────────────────────────────┼────────────────────────┼───────────────┤\n",
       "│ dropout_1 (\u001b[38;5;33mDropout\u001b[0m)             │ (\u001b[38;5;45mNone\u001b[0m, \u001b[38;5;34m64\u001b[0m)             │             \u001b[38;5;34m0\u001b[0m │\n",
       "├─────────────────────────────────┼────────────────────────┼───────────────┤\n",
       "│ dense_2 (\u001b[38;5;33mDense\u001b[0m)                 │ (\u001b[38;5;45mNone\u001b[0m, \u001b[38;5;34m3\u001b[0m)              │           \u001b[38;5;34m195\u001b[0m │\n",
       "└─────────────────────────────────┴────────────────────────┴───────────────┘\n"
      ]
     },
     "metadata": {},
     "output_type": "display_data"
    },
    {
     "data": {
      "text/html": [
       "<pre style=\"white-space:pre;overflow-x:auto;line-height:normal;font-family:Menlo,'DejaVu Sans Mono',consolas,'Courier New',monospace\"><span style=\"font-weight: bold\"> Total params: </span><span style=\"color: #00af00; text-decoration-color: #00af00\">5,056,755</span> (19.29 MB)\n",
       "</pre>\n"
      ],
      "text/plain": [
       "\u001b[1m Total params: \u001b[0m\u001b[38;5;34m5,056,755\u001b[0m (19.29 MB)\n"
      ]
     },
     "metadata": {},
     "output_type": "display_data"
    },
    {
     "data": {
      "text/html": [
       "<pre style=\"white-space:pre;overflow-x:auto;line-height:normal;font-family:Menlo,'DejaVu Sans Mono',consolas,'Courier New',monospace\"><span style=\"font-weight: bold\"> Trainable params: </span><span style=\"color: #00af00; text-decoration-color: #00af00\">480,899</span> (1.83 MB)\n",
       "</pre>\n"
      ],
      "text/plain": [
       "\u001b[1m Trainable params: \u001b[0m\u001b[38;5;34m480,899\u001b[0m (1.83 MB)\n"
      ]
     },
     "metadata": {},
     "output_type": "display_data"
    },
    {
     "data": {
      "text/html": [
       "<pre style=\"white-space:pre;overflow-x:auto;line-height:normal;font-family:Menlo,'DejaVu Sans Mono',consolas,'Courier New',monospace\"><span style=\"font-weight: bold\"> Non-trainable params: </span><span style=\"color: #00af00; text-decoration-color: #00af00\">4,575,856</span> (17.46 MB)\n",
       "</pre>\n"
      ],
      "text/plain": [
       "\u001b[1m Non-trainable params: \u001b[0m\u001b[38;5;34m4,575,856\u001b[0m (17.46 MB)\n"
      ]
     },
     "metadata": {},
     "output_type": "display_data"
    },
    {
     "name": "stdout",
     "output_type": "stream",
     "text": [
      "\n",
      "Training BiLSTM model...\n",
      "Epoch 1/30\n",
      "\u001b[1m76/76\u001b[0m \u001b[32m━━━━━━━━━━━━━━━━━━━━\u001b[0m\u001b[37m\u001b[0m \u001b[1m0s\u001b[0m 270ms/step - accuracy: 0.5350 - loss: 0.9212"
     ]
    },
    {
     "name": "stderr",
     "output_type": "stream",
     "text": [
      "WARNING:absl:You are saving your model as an HDF5 file via `model.save()` or `keras.saving.save_model(model)`. This file format is considered legacy. We recommend using instead the native Keras format, e.g. `model.save('my_model.keras')` or `keras.saving.save_model(model, 'my_model.keras')`. \n"
     ]
    },
    {
     "name": "stdout",
     "output_type": "stream",
     "text": [
      "\u001b[1m76/76\u001b[0m \u001b[32m━━━━━━━━━━━━━━━━━━━━\u001b[0m\u001b[37m\u001b[0m \u001b[1m30s\u001b[0m 379ms/step - accuracy: 0.5363 - loss: 0.9188 - val_accuracy: 0.7449 - val_loss: 0.7358 - learning_rate: 0.0010\n",
      "Epoch 2/30\n",
      "\u001b[1m76/76\u001b[0m \u001b[32m━━━━━━━━━━━━━━━━━━━━\u001b[0m\u001b[37m\u001b[0m \u001b[1m0s\u001b[0m 277ms/step - accuracy: 0.8078 - loss: 0.4489"
     ]
    },
    {
     "name": "stderr",
     "output_type": "stream",
     "text": [
      "WARNING:absl:You are saving your model as an HDF5 file via `model.save()` or `keras.saving.save_model(model)`. This file format is considered legacy. We recommend using instead the native Keras format, e.g. `model.save('my_model.keras')` or `keras.saving.save_model(model, 'my_model.keras')`. \n"
     ]
    },
    {
     "name": "stdout",
     "output_type": "stream",
     "text": [
      "\u001b[1m76/76\u001b[0m \u001b[32m━━━━━━━━━━━━━━━━━━━━\u001b[0m\u001b[37m\u001b[0m \u001b[1m29s\u001b[0m 379ms/step - accuracy: 0.8080 - loss: 0.4487 - val_accuracy: 0.7748 - val_loss: 0.5745 - learning_rate: 0.0010\n",
      "Epoch 3/30\n",
      "\u001b[1m76/76\u001b[0m \u001b[32m━━━━━━━━━━━━━━━━━━━━\u001b[0m\u001b[37m\u001b[0m \u001b[1m0s\u001b[0m 274ms/step - accuracy: 0.8500 - loss: 0.3711"
     ]
    },
    {
     "name": "stderr",
     "output_type": "stream",
     "text": [
      "WARNING:absl:You are saving your model as an HDF5 file via `model.save()` or `keras.saving.save_model(model)`. This file format is considered legacy. We recommend using instead the native Keras format, e.g. `model.save('my_model.keras')` or `keras.saving.save_model(model, 'my_model.keras')`. \n"
     ]
    },
    {
     "name": "stdout",
     "output_type": "stream",
     "text": [
      "\u001b[1m76/76\u001b[0m \u001b[32m━━━━━━━━━━━━━━━━━━━━\u001b[0m\u001b[37m\u001b[0m \u001b[1m28s\u001b[0m 375ms/step - accuracy: 0.8500 - loss: 0.3710 - val_accuracy: 0.8252 - val_loss: 0.4593 - learning_rate: 0.0010\n",
      "Epoch 4/30\n",
      "\u001b[1m76/76\u001b[0m \u001b[32m━━━━━━━━━━━━━━━━━━━━\u001b[0m\u001b[37m\u001b[0m \u001b[1m0s\u001b[0m 279ms/step - accuracy: 0.8664 - loss: 0.3370"
     ]
    },
    {
     "name": "stderr",
     "output_type": "stream",
     "text": [
      "WARNING:absl:You are saving your model as an HDF5 file via `model.save()` or `keras.saving.save_model(model)`. This file format is considered legacy. We recommend using instead the native Keras format, e.g. `model.save('my_model.keras')` or `keras.saving.save_model(model, 'my_model.keras')`. \n"
     ]
    },
    {
     "name": "stdout",
     "output_type": "stream",
     "text": [
      "\u001b[1m76/76\u001b[0m \u001b[32m━━━━━━━━━━━━━━━━━━━━\u001b[0m\u001b[37m\u001b[0m \u001b[1m29s\u001b[0m 381ms/step - accuracy: 0.8665 - loss: 0.3368 - val_accuracy: 0.8804 - val_loss: 0.3686 - learning_rate: 0.0010\n",
      "Epoch 5/30\n",
      "\u001b[1m76/76\u001b[0m \u001b[32m━━━━━━━━━━━━━━━━━━━━\u001b[0m\u001b[37m\u001b[0m \u001b[1m0s\u001b[0m 265ms/step - accuracy: 0.8749 - loss: 0.2950"
     ]
    },
    {
     "name": "stderr",
     "output_type": "stream",
     "text": [
      "WARNING:absl:You are saving your model as an HDF5 file via `model.save()` or `keras.saving.save_model(model)`. This file format is considered legacy. We recommend using instead the native Keras format, e.g. `model.save('my_model.keras')` or `keras.saving.save_model(model, 'my_model.keras')`. \n"
     ]
    },
    {
     "name": "stdout",
     "output_type": "stream",
     "text": [
      "\u001b[1m76/76\u001b[0m \u001b[32m━━━━━━━━━━━━━━━━━━━━\u001b[0m\u001b[37m\u001b[0m \u001b[1m28s\u001b[0m 366ms/step - accuracy: 0.8749 - loss: 0.2948 - val_accuracy: 0.8897 - val_loss: 0.3101 - learning_rate: 0.0010\n",
      "Epoch 6/30\n",
      "\u001b[1m76/76\u001b[0m \u001b[32m━━━━━━━━━━━━━━━━━━━━\u001b[0m\u001b[37m\u001b[0m \u001b[1m21s\u001b[0m 282ms/step - accuracy: 0.8902 - loss: 0.2577 - val_accuracy: 0.8860 - val_loss: 0.2828 - learning_rate: 0.0010\n",
      "Epoch 7/30\n",
      "\u001b[1m76/76\u001b[0m \u001b[32m━━━━━━━━━━━━━━━━━━━━\u001b[0m\u001b[37m\u001b[0m \u001b[1m22s\u001b[0m 288ms/step - accuracy: 0.9046 - loss: 0.2240 - val_accuracy: 0.8832 - val_loss: 0.3034 - learning_rate: 0.0010\n",
      "Epoch 8/30\n",
      "\u001b[1m76/76\u001b[0m \u001b[32m━━━━━━━━━━━━━━━━━━━━\u001b[0m\u001b[37m\u001b[0m \u001b[1m0s\u001b[0m 270ms/step - accuracy: 0.9138 - loss: 0.2035"
     ]
    },
    {
     "name": "stderr",
     "output_type": "stream",
     "text": [
      "WARNING:absl:You are saving your model as an HDF5 file via `model.save()` or `keras.saving.save_model(model)`. This file format is considered legacy. We recommend using instead the native Keras format, e.g. `model.save('my_model.keras')` or `keras.saving.save_model(model, 'my_model.keras')`. \n"
     ]
    },
    {
     "name": "stdout",
     "output_type": "stream",
     "text": [
      "\u001b[1m76/76\u001b[0m \u001b[32m━━━━━━━━━━━━━━━━━━━━\u001b[0m\u001b[37m\u001b[0m \u001b[1m28s\u001b[0m 371ms/step - accuracy: 0.9138 - loss: 0.2033 - val_accuracy: 0.8925 - val_loss: 0.3146 - learning_rate: 0.0010\n",
      "Epoch 9/30\n",
      "\u001b[1m76/76\u001b[0m \u001b[32m━━━━━━━━━━━━━━━━━━━━\u001b[0m\u001b[37m\u001b[0m \u001b[1m0s\u001b[0m 265ms/step - accuracy: 0.9284 - loss: 0.1681"
     ]
    },
    {
     "name": "stderr",
     "output_type": "stream",
     "text": [
      "WARNING:absl:You are saving your model as an HDF5 file via `model.save()` or `keras.saving.save_model(model)`. This file format is considered legacy. We recommend using instead the native Keras format, e.g. `model.save('my_model.keras')` or `keras.saving.save_model(model, 'my_model.keras')`. \n"
     ]
    },
    {
     "name": "stdout",
     "output_type": "stream",
     "text": [
      "\u001b[1m76/76\u001b[0m \u001b[32m━━━━━━━━━━━━━━━━━━━━\u001b[0m\u001b[37m\u001b[0m \u001b[1m28s\u001b[0m 368ms/step - accuracy: 0.9284 - loss: 0.1680 - val_accuracy: 0.8953 - val_loss: 0.3160 - learning_rate: 2.0000e-04\n"
     ]
    },
    {
     "name": "stderr",
     "output_type": "stream",
     "text": [
      "WARNING:absl:Compiled the loaded model, but the compiled metrics have yet to be built. `model.compile_metrics` will be empty until you train or evaluate the model.\n"
     ]
    },
    {
     "name": "stdout",
     "output_type": "stream",
     "text": [
      "\u001b[1m84/84\u001b[0m \u001b[32m━━━━━━━━━━━━━━━━━━━━\u001b[0m\u001b[37m\u001b[0m \u001b[1m5s\u001b[0m 53ms/step\n",
      "\n",
      "BiLSTM Test Accuracy: 0.8856\n",
      "BiLSTM Test F1-Score: 0.8894\n"
     ]
    }
   ],
   "source": [
    "print(\"Training BiLSTM Model with FastText.....\")\n",
    "# Tokenization\n",
    "print(\"\\nTokenizing text...\")\n",
    "tokenizer = Tokenizer(num_words=VOCAB_SIZE, oov_token=\"<unk>\")\n",
    "tokenizer.fit_on_texts(X_train)\n",
    "\n",
    "# Prepare embedding matrix\n",
    "print(\"Preparing embedding matrix...\")\n",
    "word_index = tokenizer.word_index\n",
    "num_words = min(VOCAB_SIZE, len(word_index)) + 1\n",
    "\n",
    "embedding_matrix = np.zeros((num_words, EMBEDDING_DIM))\n",
    "found = 0\n",
    "\n",
    "for word, i in word_index.items():\n",
    "    if i >= VOCAB_SIZE:\n",
    "        continue\n",
    "    embedding_vector = embeddings_index.get(word)\n",
    "    if embedding_vector is not None:\n",
    "        embedding_matrix[i] = embedding_vector\n",
    "        found += 1\n",
    "\n",
    "print(f\"Embedding coverage: {found}/{num_words} ({found/num_words*100:.2f}%)\")\n",
    "\n",
    "# Sequence conversion and padding\n",
    "print(\"\\nConverting text to sequences...\")\n",
    "train_sequences = tokenizer.texts_to_sequences(X_train)\n",
    "test_sequences = tokenizer.texts_to_sequences(X_test)\n",
    "\n",
    "X_train_padded = pad_sequences(train_sequences, maxlen=MAX_SEQUENCE_LENGTH, padding='post', truncating='post')\n",
    "X_test_padded = pad_sequences(test_sequences, maxlen=MAX_SEQUENCE_LENGTH, padding='post', truncating='post')\n",
    "\n",
    "# Build model\n",
    "print(\"\\nBuilding BiLSTM model...\")\n",
    "bilstm_model = build_bilstm_model(embedding_matrix, MAX_SEQUENCE_LENGTH, num_words, EMBEDDING_DIM)\n",
    "bilstm_model.summary()\n",
    "\n",
    "# Callbacks\n",
    "callbacks = [\n",
    "    EarlyStopping(monitor='val_loss', patience=3, restore_best_weights=True),\n",
    "    ReduceLROnPlateau(monitor='val_loss', factor=0.2, patience=2, min_lr=1e-6),\n",
    "    ModelCheckpoint('best_bilstm_model.h5', save_best_only=True, monitor='val_accuracy')\n",
    "]\n",
    "\n",
    "# Train model\n",
    "print(\"\\nTraining BiLSTM model...\")\n",
    "history = bilstm_model.fit(\n",
    "    X_train_padded, y_train,\n",
    "    epochs=30,\n",
    "    batch_size=128,\n",
    "    validation_split=0.1,\n",
    "    callbacks=callbacks,\n",
    "    class_weight=class_weight_dict,\n",
    "    verbose=1\n",
    ")\n",
    "\n",
    "# Load best model\n",
    "bilstm_model = load_model('best_bilstm_model.h5')\n",
    "\n",
    "# Evaluate\n",
    "bilstm_pred = np.argmax(bilstm_model.predict(X_test_padded), axis=1)\n",
    "bilstm_acc = accuracy_score(y_test, bilstm_pred)\n",
    "bilstm_f1 = f1_score(y_test, bilstm_pred, average='weighted')\n",
    "\n",
    "print(f\"\\nBiLSTM Test Accuracy: {bilstm_acc:.4f}\")\n",
    "print(f\"BiLSTM Test F1-Score: {bilstm_f1:.4f}\")"
   ]
  },
  {
   "cell_type": "markdown",
   "id": "073e53d6",
   "metadata": {},
   "source": [
    "# Smart Gating Ensemble"
   ]
  },
  {
   "cell_type": "code",
   "execution_count": 18,
   "id": "cc54bb24",
   "metadata": {},
   "outputs": [
    {
     "name": "stdout",
     "output_type": "stream",
     "text": [
      "\u001b[1m84/84\u001b[0m \u001b[32m━━━━━━━━━━━━━━━━━━━━\u001b[0m\u001b[37m\u001b[0m \u001b[1m4s\u001b[0m 47ms/step\n",
      "Smart Gating Ensemble Accuracy: 0.9308\n"
     ]
    }
   ],
   "source": [
    "from sklearn.ensemble import RandomForestClassifier\n",
    "\n",
    "# 1. Create disagreement dataset (where models disagree)\n",
    "svm_preds = calibrated_svm.predict(X_test_tfidf)\n",
    "bilstm_probs = bilstm_model.predict(X_test_padded)\n",
    "bilstm_preds = np.argmax(bilstm_probs, axis=1)\n",
    "\n",
    "# Create meta features: concatenate SVM and BiLSTM probabilities\n",
    "svm_probs = calibrated_svm.predict_proba(X_test_tfidf)\n",
    "X_test_meta = np.hstack([svm_probs, bilstm_probs])\n",
    "\n",
    "disagreement_mask = svm_preds != bilstm_preds\n",
    "X_disagree = X_test_meta[disagreement_mask]\n",
    "y_disagree = y_test[disagreement_mask]\n",
    "\n",
    "# 2. Train a gating classifier only on disagreements\n",
    "gate_clf = RandomForestClassifier(n_estimators=100, class_weight='balanced')\n",
    "gate_clf.fit(X_disagree, y_disagree)\n",
    "\n",
    "# 3. Hybrid prediction logic\n",
    "final_preds = bilstm_preds.copy()  # Start with BiLSTM predictions\n",
    "\n",
    "# Only override where models disagree AND gate predicts SVM is correct\n",
    "svm_correct_mask = (gate_clf.predict(X_test_meta) == svm_preds) & disagreement_mask\n",
    "final_preds[svm_correct_mask] = svm_preds[svm_correct_mask]\n",
    "\n",
    "# Evaluate\n",
    "hybrid_acc = accuracy_score(y_test, final_preds)\n",
    "print(f\"Smart Gating Ensemble Accuracy: {hybrid_acc:.4f}\")"
   ]
  },
  {
   "cell_type": "code",
   "execution_count": 20,
   "id": "c4b7bcc0",
   "metadata": {},
   "outputs": [
    {
     "name": "stdout",
     "output_type": "stream",
     "text": [
      "Collecting matplotlib\n",
      "  Using cached matplotlib-3.9.4-cp39-cp39-macosx_11_0_arm64.whl.metadata (11 kB)\n",
      "Collecting seaborn\n",
      "  Using cached seaborn-0.13.2-py3-none-any.whl.metadata (5.4 kB)\n",
      "Collecting contourpy>=1.0.1 (from matplotlib)\n",
      "  Using cached contourpy-1.3.0-cp39-cp39-macosx_11_0_arm64.whl.metadata (5.4 kB)\n",
      "Collecting cycler>=0.10 (from matplotlib)\n",
      "  Using cached cycler-0.12.1-py3-none-any.whl.metadata (3.8 kB)\n",
      "Collecting fonttools>=4.22.0 (from matplotlib)\n",
      "  Downloading fonttools-4.59.0-cp39-cp39-macosx_10_9_universal2.whl.metadata (107 kB)\n",
      "Collecting kiwisolver>=1.3.1 (from matplotlib)\n",
      "  Using cached kiwisolver-1.4.7-cp39-cp39-macosx_11_0_arm64.whl.metadata (6.3 kB)\n",
      "Requirement already satisfied: numpy>=1.23 in ./.venv/lib/python3.9/site-packages (from matplotlib) (2.0.2)\n",
      "Requirement already satisfied: packaging>=20.0 in ./.venv/lib/python3.9/site-packages (from matplotlib) (25.0)\n",
      "Requirement already satisfied: pillow>=8 in ./.venv/lib/python3.9/site-packages (from matplotlib) (11.3.0)\n",
      "Collecting pyparsing>=2.3.1 (from matplotlib)\n",
      "  Using cached pyparsing-3.2.3-py3-none-any.whl.metadata (5.0 kB)\n",
      "Requirement already satisfied: python-dateutil>=2.7 in ./.venv/lib/python3.9/site-packages (from matplotlib) (2.9.0.post0)\n",
      "Collecting importlib-resources>=3.2.0 (from matplotlib)\n",
      "  Using cached importlib_resources-6.5.2-py3-none-any.whl.metadata (3.9 kB)\n",
      "Requirement already satisfied: pandas>=1.2 in ./.venv/lib/python3.9/site-packages (from seaborn) (2.3.1)\n",
      "Requirement already satisfied: zipp>=3.1.0 in ./.venv/lib/python3.9/site-packages (from importlib-resources>=3.2.0->matplotlib) (3.23.0)\n",
      "Requirement already satisfied: pytz>=2020.1 in ./.venv/lib/python3.9/site-packages (from pandas>=1.2->seaborn) (2025.2)\n",
      "Requirement already satisfied: tzdata>=2022.7 in ./.venv/lib/python3.9/site-packages (from pandas>=1.2->seaborn) (2025.2)\n",
      "Requirement already satisfied: six>=1.5 in ./.venv/lib/python3.9/site-packages (from python-dateutil>=2.7->matplotlib) (1.17.0)\n",
      "Using cached matplotlib-3.9.4-cp39-cp39-macosx_11_0_arm64.whl (7.8 MB)\n",
      "Using cached seaborn-0.13.2-py3-none-any.whl (294 kB)\n",
      "Using cached contourpy-1.3.0-cp39-cp39-macosx_11_0_arm64.whl (249 kB)\n",
      "Using cached cycler-0.12.1-py3-none-any.whl (8.3 kB)\n",
      "Downloading fonttools-4.59.0-cp39-cp39-macosx_10_9_universal2.whl (2.8 MB)\n",
      "\u001b[2K   \u001b[90m━━━━━━━━━━━━━━━━━━━━━━━━━━━━━━━━━━━━━━━━\u001b[0m \u001b[32m2.8/2.8 MB\u001b[0m \u001b[31m4.4 MB/s\u001b[0m  \u001b[33m0:00:00\u001b[0m eta \u001b[36m0:00:01\u001b[0m\n",
      "\u001b[?25hUsing cached importlib_resources-6.5.2-py3-none-any.whl (37 kB)\n",
      "Using cached kiwisolver-1.4.7-cp39-cp39-macosx_11_0_arm64.whl (64 kB)\n",
      "Using cached pyparsing-3.2.3-py3-none-any.whl (111 kB)\n",
      "Installing collected packages: pyparsing, kiwisolver, importlib-resources, fonttools, cycler, contourpy, matplotlib, seaborn\n",
      "\u001b[2K   \u001b[90m━━━━━━━━━━━━━━━━━━━━━━━━━━━━━━━━━━━━━━━━\u001b[0m \u001b[32m8/8\u001b[0m [seaborn]m7/8\u001b[0m [seaborn]ib]\n",
      "\u001b[1A\u001b[2KSuccessfully installed contourpy-1.3.0 cycler-0.12.1 fonttools-4.59.0 importlib-resources-6.5.2 kiwisolver-1.4.7 matplotlib-3.9.4 pyparsing-3.2.3 seaborn-0.13.2\n",
      "\n",
      "SVM Classification Report:\n",
      "              precision    recall  f1-score   support\n",
      "\n",
      "    Positive       0.77      0.71      0.74       710\n",
      "    Negative       0.37      0.52      0.43       147\n",
      "     Neutral       0.88      0.87      0.87      1818\n",
      "\n",
      "    accuracy                           0.81      2675\n",
      "   macro avg       0.67      0.70      0.68      2675\n",
      "weighted avg       0.82      0.81      0.81      2675\n",
      "\n"
     ]
    },
    {
     "data": {
      "image/png": "[encoded data removed]",
      "text/plain": [
       "<Figure size 800x600 with 2 Axes>"
      ]
     },
     "metadata": {},
     "output_type": "display_data"
    },
    {
     "name": "stdout",
     "output_type": "stream",
     "text": [
      "\n",
      "BiLSTM Classification Report:\n",
      "              precision    recall  f1-score   support\n",
      "\n",
      "    Positive       0.88      0.81      0.84       710\n",
      "    Negative       0.50      0.76      0.60       147\n",
      "     Neutral       0.94      0.93      0.93      1818\n",
      "\n",
      "    accuracy                           0.89      2675\n",
      "   macro avg       0.77      0.83      0.79      2675\n",
      "weighted avg       0.90      0.89      0.89      2675\n",
      "\n"
     ]
    },
    {
     "data": {
      "image/png": "[encoded data removed]",
      "text/plain": [
       "<Figure size 800x600 with 2 Axes>"
      ]
     },
     "metadata": {},
     "output_type": "display_data"
    },
    {
     "data": {
      "image/png": "[encoded data removed]",
      "text/plain": [
       "<Figure size 1200x500 with 2 Axes>"
      ]
     },
     "metadata": {},
     "output_type": "display_data"
    },
    {
     "name": "stdout",
     "output_type": "stream",
     "text": [
      "\n",
      "Smart Gating Ensemble Classification Report:\n",
      "              precision    recall  f1-score   support\n",
      "\n",
      "    Positive       0.94      0.89      0.91       710\n",
      "    Negative       0.63      0.81      0.71       147\n",
      "     Neutral       0.96      0.96      0.96      1818\n",
      "\n",
      "    accuracy                           0.93      2675\n",
      "   macro avg       0.84      0.88      0.86      2675\n",
      "weighted avg       0.94      0.93      0.93      2675\n",
      "\n"
     ]
    },
    {
     "data": {
      "image/png": "[encoded data removed]",
      "text/plain": [
       "<Figure size 800x600 with 2 Axes>"
      ]
     },
     "metadata": {},
     "output_type": "display_data"
    },
    {
     "data": {
      "image/png": "[encoded data removed]",
      "text/plain": [
       "<Figure size 1200x600 with 1 Axes>"
      ]
     },
     "metadata": {},
     "output_type": "display_data"
    }
   ],
   "source": [
    "# Add these imports at the top with other imports\n",
    "!pip install matplotlib seaborn\n",
    "import matplotlib.pyplot as plt\n",
    "import seaborn as sns\n",
    "from sklearn.metrics import confusion_matrix, precision_recall_fscore_support\n",
    "\n",
    "# After SVM evaluation, add visualization\n",
    "print(\"\\nSVM Classification Report:\")\n",
    "print(classification_report(y_test, svm_pred, target_names=label_map.keys()))\n",
    "\n",
    "# Plot SVM confusion matrix\n",
    "plt.figure(figsize=(8,6))\n",
    "svm_cm = confusion_matrix(y_test, svm_pred)\n",
    "sns.heatmap(svm_cm, annot=True, fmt='d', cmap='Blues', \n",
    "            xticklabels=label_map.keys(), yticklabels=label_map.keys())\n",
    "plt.title('SVM Confusion Matrix')\n",
    "plt.ylabel('Actual')\n",
    "plt.xlabel('Predicted')\n",
    "plt.show()\n",
    "\n",
    "# After BiLSTM evaluation, add visualization\n",
    "print(\"\\nBiLSTM Classification Report:\")\n",
    "print(classification_report(y_test, bilstm_pred, target_names=label_map.keys()))\n",
    "\n",
    "# Plot BiLSTM confusion matrix\n",
    "plt.figure(figsize=(8,6))\n",
    "bilstm_cm = confusion_matrix(y_test, bilstm_pred)\n",
    "sns.heatmap(bilstm_cm, annot=True, fmt='d', cmap='Greens',\n",
    "            xticklabels=label_map.keys(), yticklabels=label_map.keys())\n",
    "plt.title('BiLSTM Confusion Matrix')\n",
    "plt.ylabel('Actual')\n",
    "plt.xlabel('Predicted')\n",
    "plt.show()\n",
    "\n",
    "# Plot training history for BiLSTM\n",
    "plt.figure(figsize=(12, 5))\n",
    "plt.subplot(1, 2, 1)\n",
    "plt.plot(history.history['accuracy'], label='Train Accuracy')\n",
    "plt.plot(history.history['val_accuracy'], label='Validation Accuracy')\n",
    "plt.title('Model Accuracy')\n",
    "plt.ylabel('Accuracy')\n",
    "plt.xlabel('Epoch')\n",
    "plt.legend()\n",
    "\n",
    "plt.subplot(1, 2, 2)\n",
    "plt.plot(history.history['loss'], label='Train Loss')\n",
    "plt.plot(history.history['val_loss'], label='Validation Loss')\n",
    "plt.title('Model Loss')\n",
    "plt.ylabel('Loss')\n",
    "plt.xlabel('Epoch')\n",
    "plt.legend()\n",
    "plt.tight_layout()\n",
    "plt.show()\n",
    "\n",
    "# After Smart Gating Ensemble, add comprehensive evaluation\n",
    "print(\"\\nSmart Gating Ensemble Classification Report:\")\n",
    "print(classification_report(y_test, final_preds, target_names=label_map.keys()))\n",
    "\n",
    "# Plot ensemble confusion matrix\n",
    "plt.figure(figsize=(8,6))\n",
    "ensemble_cm = confusion_matrix(y_test, final_preds)\n",
    "sns.heatmap(ensemble_cm, annot=True, fmt='d', cmap='Oranges',\n",
    "            xticklabels=label_map.keys(), yticklabels=label_map.keys())\n",
    "plt.title('Ensemble Confusion Matrix')\n",
    "plt.ylabel('Actual')\n",
    "plt.xlabel('Predicted')\n",
    "plt.show()\n",
    "\n",
    "# Model comparison bar chart\n",
    "models = ['SVM', 'BiLSTM', 'Ensemble']\n",
    "accuracy = [svm_acc, bilstm_acc, hybrid_acc]\n",
    "f1_scores = [svm_f1, bilstm_f1, f1_score(y_test, final_preds, average='weighted')]\n",
    "\n",
    "# Get precision and recall for each model\n",
    "svm_precision, svm_recall, _, _ = precision_recall_fscore_support(y_test, svm_pred, average='weighted')\n",
    "bilstm_precision, bilstm_recall, _, _ = precision_recall_fscore_support(y_test, bilstm_pred, average='weighted')\n",
    "ens_precision, ens_recall, _, _ = precision_recall_fscore_support(y_test, final_preds, average='weighted')\n",
    "\n",
    "plt.figure(figsize=(12, 6))\n",
    "x = range(len(models))\n",
    "width = 0.2\n",
    "\n",
    "plt.bar(x, accuracy, width, label='Accuracy')\n",
    "plt.bar([i + width for i in x], f1_scores, width, label='F1-Score')\n",
    "plt.bar([i + width*2 for i in x], [svm_precision, bilstm_precision, ens_precision], width, label='Precision')\n",
    "plt.bar([i + width*3 for i in x], [svm_recall, bilstm_recall, ens_recall], width, label='Recall')\n",
    "\n",
    "plt.xlabel('Models')\n",
    "plt.ylabel('Scores')\n",
    "plt.title('Model Performance Comparison')\n",
    "plt.xticks([i + width*1.5 for i in x], models)\n",
    "plt.legend()\n",
    "plt.tight_layout()\n",
    "plt.show()"
   ]
  },
  {
   "cell_type": "markdown",
   "id": "510b6985",
   "metadata": {},
   "source": [
    "# Create models directory and save models"
   ]
  },
  {
   "cell_type": "code",
   "execution_count": 21,
   "id": "634951c1",
   "metadata": {},
   "outputs": [
    {
     "name": "stderr",
     "output_type": "stream",
     "text": [
      "WARNING:absl:You are saving your model as an HDF5 file via `model.save()` or `keras.saving.save_model(model)`. This file format is considered legacy. We recommend using instead the native Keras format, e.g. `model.save('my_model.keras')` or `keras.saving.save_model(model, 'my_model.keras')`. \n"
     ]
    },
    {
     "name": "stdout",
     "output_type": "stream",
     "text": [
      "\u001b[1m84/84\u001b[0m \u001b[32m━━━━━━━━━━━━━━━━━━━━\u001b[0m\u001b[37m\u001b[0m \u001b[1m4s\u001b[0m 50ms/step\n",
      "\n",
      "🎯 Best Model: SMART_GATING_ENSEMBLE with 0.9308 accuracy\n"
     ]
    }
   ],
   "source": [
    "\n",
    "import os\n",
    "import joblib\n",
    "import numpy as np\n",
    "from sklearn.ensemble import RandomForestClassifier\n",
    "\n",
    "# Create models directory\n",
    "os.makedirs('models', exist_ok=True)\n",
    "\n",
    "# --- Save Base Components ---\n",
    "joblib.dump(tfidf, 'models/tfidf_vectorizer.pkl')\n",
    "joblib.dump(calibrated_svm, 'models/svm_model.pkl')\n",
    "joblib.dump(tokenizer, 'models/tokenizer.pkl')\n",
    "bilstm_model.save('models/bilstm_model.h5')\n",
    "\n",
    "# --- Smart Gating Classifier Training ---\n",
    "# (Assuming you've already trained it as per previous discussion)\n",
    "svm_probs = calibrated_svm.predict_proba(X_test_tfidf)\n",
    "bilstm_probs = bilstm_model.predict(X_test_padded)\n",
    "X_meta = np.hstack([svm_probs, bilstm_probs])\n",
    "\n",
    "svm_preds = calibrated_svm.predict(X_test_tfidf)\n",
    "bilstm_preds = np.argmax(bilstm_probs, axis=1)\n",
    "disagreement_mask = svm_preds != bilstm_preds\n",
    "\n",
    "gate_clf = RandomForestClassifier(n_estimators=100).fit(\n",
    "    X_meta[disagreement_mask], \n",
    "    y_test[disagreement_mask]\n",
    ")\n",
    "\n",
    "# --- Save Smart Gating Components ---\n",
    "joblib.dump(gate_clf, 'models/gating_classifier.pkl')\n",
    "\n",
    "# --- Save Complete Ensemble Package ---\n",
    "ensemble_package = {\n",
    "    'svm_model': calibrated_svm,\n",
    "    'bilstm_model': bilstm_model,\n",
    "    'gating_classifier': gate_clf,\n",
    "    'tfidf_vectorizer': tfidf,\n",
    "    'tokenizer': tokenizer,\n",
    "    'max_sequence_length': MAX_SEQUENCE_LENGTH\n",
    "}\n",
    "joblib.dump(ensemble_package, 'models/smart_gating_ensemble.pkl')\n",
    "\n",
    "# --- Update Model Info ---\n",
    "with open('models/model_info.txt', 'w') as f:\n",
    "    f.write(\"best_model_type: smart_gating_ensemble\\n\")\n",
    "    f.write(f\"best_accuracy: {hybrid_acc:.4f}\\n\")  # Your 93.64% accuracy\n",
    "    f.write(f\"svm_accuracy: {svm_acc:.4f}\\n\")\n",
    "    f.write(f\"bilstm_accuracy: {bilstm_acc:.4f}\\n\")\n",
    "    f.write(f\"max_length: {MAX_SEQUENCE_LENGTH}\\n\")\n",
    "    f.write(f\"vocab_size: {VOCAB_SIZE}\\n\")\n",
    "    f.write(f\"embedding_dim: {EMBEDDING_DIM}\\n\")\n",
    "\n",
    "print(f\"\\n🎯 Best Model: SMART_GATING_ENSEMBLE with {hybrid_acc:.4f} accuracy\")\n"
   ]
  },
  {
   "cell_type": "code",
   "execution_count": null,
   "id": "d03f7bed",
   "metadata": {},
   "outputs": [],
   "source": []
  },
  {
   "cell_type": "code",
   "execution_count": null,
   "id": "e548b870",
   "metadata": {},
   "outputs": [],
   "source": []
  }
 ],
 "metadata": {
  "kernelspec": {
   "display_name": ".venv",
   "language": "python",
   "name": "python3"
  },
  "language_info": {
   "codemirror_mode": {
    "name": "ipython",
    "version": 3
   },
   "file_extension": ".py",
   "mimetype": "text/x-python",
   "name": "python",
   "nbconvert_exporter": "python",
   "pygments_lexer": "ipython3",
   "version": "3.9.6"
  }
 },
 "nbformat": 4,
 "nbformat_minor": 5
}
